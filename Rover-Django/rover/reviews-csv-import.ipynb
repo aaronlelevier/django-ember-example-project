{
 "cells": [
  {
   "cell_type": "code",
   "execution_count": 1,
   "metadata": {},
   "outputs": [
    {
     "name": "stdout",
     "output_type": "stream",
     "text": [
      "/Users/aaron/Documents/job_applications/rover/interview-20180405-al/Rover-Django/rover\n"
     ]
    }
   ],
   "source": [
    "import csv\n",
    "from os.path import dirname, join\n",
    "\n",
    "from django.conf import settings\n",
    "\n",
    "print(settings.BASE_DIR)"
   ]
  },
  {
   "cell_type": "code",
   "execution_count": 2,
   "metadata": {},
   "outputs": [],
   "source": [
    "project_dir = dirname(dirname(settings.BASE_DIR))\n",
    "\n",
    "data_dir = join(project_dir, 'data')"
   ]
  },
  {
   "cell_type": "code",
   "execution_count": 3,
   "metadata": {},
   "outputs": [],
   "source": [
    "from django.db.utils import DataError\n",
    "from review.models import RawReview\n",
    "\n",
    "with open(join(data_dir, 'reviews.csv')) as csvfile:\n",
    "    reader = csv.DictReader(csvfile)\n",
    "    RawReview.objects.bulk_create(\n",
    "        [RawReview(**r) for r in reader])"
   ]
  },
  {
   "cell_type": "code",
   "execution_count": 4,
   "metadata": {},
   "outputs": [
    {
     "data": {
      "text/plain": [
       "500"
      ]
     },
     "execution_count": 4,
     "metadata": {},
     "output_type": "execute_result"
    }
   ],
   "source": [
    "RawReview.objects.count()"
   ]
  },
  {
   "cell_type": "code",
   "execution_count": 1,
   "metadata": {},
   "outputs": [],
   "source": [
    "from review.models import Review"
   ]
  },
  {
   "cell_type": "code",
   "execution_count": 6,
   "metadata": {},
   "outputs": [
    {
     "data": {
      "text/plain": [
       "<QuerySet [{'sitter__user__username': 'Aksana B.', 'total': 4}, {'sitter__user__username': 'Alejandro G.', 'total': 7}, {'sitter__user__username': 'Alex F.', 'total': 6}, {'sitter__user__username': 'Alex S.', 'total': 6}, {'sitter__user__username': 'Ali P.', 'total': 4}, {'sitter__user__username': 'Angie S.', 'total': 5}, {'sitter__user__username': 'Anna Marie W.', 'total': 4}, {'sitter__user__username': 'Anne B.', 'total': 3}, {'sitter__user__username': 'Anne D.', 'total': 5}, {'sitter__user__username': 'Ashley  K.', 'total': 7}, {'sitter__user__username': 'Ashley H.', 'total': 6}, {'sitter__user__username': 'BOB M.', 'total': 2}, {'sitter__user__username': 'Ben F.', 'total': 3}, {'sitter__user__username': 'Carl P.', 'total': 4}, {'sitter__user__username': 'Caroline J.', 'total': 5}, {'sitter__user__username': 'Caroline M.', 'total': 2}, {'sitter__user__username': 'Chanece W.', 'total': 6}, {'sitter__user__username': 'Chasen   T.', 'total': 7}, {'sitter__user__username': 'Chris K.', 'total': 6}, {'sitter__user__username': 'Christa A.', 'total': 3}, '...(remaining elements truncated)...']>"
      ]
     },
     "execution_count": 6,
     "metadata": {},
     "output_type": "execute_result"
    }
   ],
   "source": [
    "from django.db.models import Count\n",
    "from review.models import Review\n",
    "\n",
    "Review.objects.all().values('sitter__user__username').annotate(total=Count('rating'))"
   ]
  },
  {
   "cell_type": "code",
   "execution_count": null,
   "metadata": {},
   "outputs": [],
   "source": []
  }
 ],
 "metadata": {
  "kernelspec": {
   "display_name": "Django Shell-Plus",
   "language": "python",
   "name": "django_extensions"
  },
  "language_info": {
   "codemirror_mode": {
    "name": "ipython",
    "version": 3
   },
   "file_extension": ".py",
   "mimetype": "text/x-python",
   "name": "python",
   "nbconvert_exporter": "python",
   "pygments_lexer": "ipython3",
   "version": "3.6.2"
  }
 },
 "nbformat": 4,
 "nbformat_minor": 2
}
