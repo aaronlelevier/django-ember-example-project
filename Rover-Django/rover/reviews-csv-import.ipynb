{
 "cells": [
  {
   "cell_type": "code",
   "execution_count": 1,
   "metadata": {},
   "outputs": [],
   "source": [
    "import csv\n",
    "from os.path import dirname, join\n",
    "\n",
    "from django.conf import settings"
   ]
  },
  {
   "cell_type": "code",
   "execution_count": 2,
   "metadata": {},
   "outputs": [],
   "source": [
    "project_dir = dirname(dirname(settings.BASE_DIR))\n",
    "\n",
    "data_dir = join(project_dir, 'data')"
   ]
  },
  {
   "cell_type": "code",
   "execution_count": 3,
   "metadata": {},
   "outputs": [],
   "source": [
    "from django.db.utils import DataError\n",
    "from review.models import RawReview\n",
    "\n",
    "with open(join(data_dir, 'reviews.csv')) as csvfile:\n",
    "    reader = csv.DictReader(csvfile)\n",
    "    RawReview.objects.bulk_create(\n",
    "        [RawReview(**r) for r in reader])"
   ]
  },
  {
   "cell_type": "code",
   "execution_count": 4,
   "metadata": {},
   "outputs": [
    {
     "data": {
      "text/plain": [
       "500"
      ]
     },
     "execution_count": 4,
     "metadata": {},
     "output_type": "execute_result"
    }
   ],
   "source": [
    "RawReview.objects.count()"
   ]
  },
  {
   "cell_type": "code",
   "execution_count": 1,
   "metadata": {},
   "outputs": [],
   "source": [
    "from review.models import Review"
   ]
  },
  {
   "cell_type": "code",
   "execution_count": 55,
   "metadata": {},
   "outputs": [
    {
     "name": "stdout",
     "output_type": "stream",
     "text": [
      "user1075@gmail.com {'sitter': UUID('821f94ff-5a48-4828-8ab3-6162d9430d26'), 'sitter__name': 'Terence A.', 'sitter__user__username': 'user1075@gmail.com', 'stays': 6, 'ratings_score': 3.5}\n",
      "user1211@yahoo.com {'sitter': UUID('b71599eb-b7af-41fe-8af2-f117305638f4'), 'sitter__name': 'Lyndsey B.', 'sitter__user__username': 'user1211@yahoo.com', 'stays': 5, 'ratings_score': 2.6}\n",
      "user1233@yahoo.com {'sitter': UUID('e71cd190-897f-45eb-b547-327da5c5a48f'), 'sitter__name': 'Huan H.', 'sitter__user__username': 'user1233@yahoo.com', 'stays': 7, 'ratings_score': 3.4285714285714284}\n",
      "user1349@hotmail.com {'sitter': UUID('443c528f-d888-4dba-8548-a87eb2610656'), 'sitter__name': 'Magali M.', 'sitter__user__username': 'user1349@hotmail.com', 'stays': 5, 'ratings_score': 3.2}\n",
      "user1690@verizon.net {'sitter': UUID('5ea0d907-e90c-4777-95b1-366c5ae230be'), 'sitter__name': 'Kevin H.', 'sitter__user__username': 'user1690@verizon.net', 'stays': 3, 'ratings_score': 3.6666666666666665}\n"
     ]
    }
   ],
   "source": [
    "from django.db.models import Count, Avg, Sum\n",
    "from review.models import Review\n",
    "import random\n",
    "\n",
    "sitters = {}\n",
    "for i, r in enumerate(Review.objects.order_by('sitter__user__username')\n",
    "                                    .values('sitter', 'sitter__name', 'sitter__user__username')\n",
    "                                    .annotate(stays=Count('rating'))\n",
    "                                    .annotate(ratings_score=Avg('rating'))):\n",
    "    sitters[r['sitter__user__username']] = r\n",
    "#     print(r)\n",
    "    if i >= 4: break\n",
    "\n",
    "count = 0\n",
    "for k,v in sitters.items():\n",
    "    print(k, v)\n",
    "    if count >= 4: break\n",
    "    count += 1"
   ]
  },
  {
   "cell_type": "code",
   "execution_count": 48,
   "metadata": {},
   "outputs": [
    {
     "data": {
      "text/plain": [
       "{'user1075@gmail.com': {'sitter': UUID('821f94ff-5a48-4828-8ab3-6162d9430d26'),\n",
       "  'sitter__name': 'Terence A.',\n",
       "  'sitter__user__username': 'user1075@gmail.com',\n",
       "  'stays': 6,\n",
       "  'ratings_score': 3.5},\n",
       " 'user1211@yahoo.com': {'sitter': UUID('b71599eb-b7af-41fe-8af2-f117305638f4'),\n",
       "  'sitter__name': 'Lyndsey B.',\n",
       "  'sitter__user__username': 'user1211@yahoo.com',\n",
       "  'stays': 5,\n",
       "  'ratings_score': 2.6},\n",
       " 'user1233@yahoo.com': {'sitter': UUID('e71cd190-897f-45eb-b547-327da5c5a48f'),\n",
       "  'sitter__name': 'Huan H.',\n",
       "  'sitter__user__username': 'user1233@yahoo.com',\n",
       "  'stays': 7,\n",
       "  'ratings_score': 3.4285714285714284},\n",
       " 'user1349@hotmail.com': {'sitter': UUID('443c528f-d888-4dba-8548-a87eb2610656'),\n",
       "  'sitter__name': 'Magali M.',\n",
       "  'sitter__user__username': 'user1349@hotmail.com',\n",
       "  'stays': 5,\n",
       "  'ratings_score': 3.2},\n",
       " 'user1690@verizon.net': {'sitter': UUID('5ea0d907-e90c-4777-95b1-366c5ae230be'),\n",
       "  'sitter__name': 'Kevin H.',\n",
       "  'sitter__user__username': 'user1690@verizon.net',\n",
       "  'stays': 3,\n",
       "  'ratings_score': 3.6666666666666665}}"
      ]
     },
     "execution_count": 48,
     "metadata": {},
     "output_type": "execute_result"
    }
   ],
   "source": [
    "sitters"
   ]
  },
  {
   "cell_type": "code",
   "execution_count": 30,
   "metadata": {},
   "outputs": [],
   "source": [
    "def sitter_score(x):\n",
    "    return (sum(1 for let in {s.lower() for s in x} if let.isalpha()) / 26)*5\n",
    "\n",
    "for s in sitters:\n",
    "    s['sitter_score'] = sitter_score(s['sitter__name'])"
   ]
  },
  {
   "cell_type": "code",
   "execution_count": 31,
   "metadata": {},
   "outputs": [
    {
     "name": "stdout",
     "output_type": "stream",
     "text": [
      "{'sitter__name': 'Terence A.', 'sitter__user__username': 'user1075@gmail.com', 'stays': 6, 'ratings_score': 3.5, 'sitter_score': 1.153846153846154}\n",
      "{'sitter__name': 'Lyndsey B.', 'sitter__user__username': 'user1211@yahoo.com', 'stays': 5, 'ratings_score': 2.6, 'sitter_score': 1.346153846153846}\n",
      "{'sitter__name': 'Huan H.', 'sitter__user__username': 'user1233@yahoo.com', 'stays': 7, 'ratings_score': 3.4285714285714284, 'sitter_score': 0.7692307692307693}\n",
      "{'sitter__name': 'Magali M.', 'sitter__user__username': 'user1349@hotmail.com', 'stays': 5, 'ratings_score': 3.2, 'sitter_score': 0.9615384615384616}\n",
      "{'sitter__name': 'Kevin H.', 'sitter__user__username': 'user1690@verizon.net', 'stays': 3, 'ratings_score': 3.6666666666666665, 'sitter_score': 1.153846153846154}\n"
     ]
    }
   ],
   "source": [
    "for i in range(5):\n",
    "    print(sitters[i])"
   ]
  },
  {
   "cell_type": "code",
   "execution_count": 32,
   "metadata": {},
   "outputs": [
    {
     "data": {
      "text/plain": [
       "{'total': 1518}"
      ]
     },
     "execution_count": 32,
     "metadata": {},
     "output_type": "execute_result"
    }
   ],
   "source": [
    "Review.objects.all().aggregate(total=Sum('rating'))"
   ]
  },
  {
   "cell_type": "code",
   "execution_count": 56,
   "metadata": {},
   "outputs": [
    {
     "data": {
      "text/plain": [
       "3.5"
      ]
     },
     "execution_count": 56,
     "metadata": {},
     "output_type": "execute_result"
    }
   ],
   "source": [
    "21/6."
   ]
  },
  {
   "cell_type": "code",
   "execution_count": 57,
   "metadata": {},
   "outputs": [
    {
     "data": {
      "text/plain": [
       "2.6"
      ]
     },
     "execution_count": 57,
     "metadata": {},
     "output_type": "execute_result"
    }
   ],
   "source": [
    "13/5."
   ]
  },
  {
   "cell_type": "code",
   "execution_count": null,
   "metadata": {},
   "outputs": [],
   "source": []
  }
 ],
 "metadata": {
  "kernelspec": {
   "display_name": "Django Shell-Plus",
   "language": "python",
   "name": "django_extensions"
  },
  "language_info": {
   "codemirror_mode": {
    "name": "ipython",
    "version": 3
   },
   "file_extension": ".py",
   "mimetype": "text/x-python",
   "name": "python",
   "nbconvert_exporter": "python",
   "pygments_lexer": "ipython3",
   "version": "3.6.2"
  }
 },
 "nbformat": 4,
 "nbformat_minor": 2
}
